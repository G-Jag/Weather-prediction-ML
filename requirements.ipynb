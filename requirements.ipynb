{
  "metadata": {
    "kernelspec": {
      "name": "python",
      "display_name": "Python (Pyodide)",
      "language": "python"
    },
    "language_info": {
      "codemirror_mode": {
        "name": "python",
        "version": 3
      },
      "file_extension": ".py",
      "mimetype": "text/x-python",
      "name": "python",
      "nbconvert_exporter": "python",
      "pygments_lexer": "ipython3",
      "version": "3.8"
    }
  },
  "nbformat_minor": 4,
  "nbformat": 4,
  "cells": [
    {
      "cell_type": "markdown",
      "source": "- Plotting\n- Scikit Learn\n    - Pipelines (OOP)\n- MLFlow (experiment tracking)\n- Dags Hub (uploading your model)\n- Lightning ai (for GPU and more CPUs)\n- Digital Ocean (for deploymnt)\n- Streamlit (https://streamlit.io/)\n- Python plotting libraries\n    - Matplotlib\n    - Seaborn\n    - Plotly\n    - Bokeh\n  ",
      "metadata": {}
    }
  ]
}